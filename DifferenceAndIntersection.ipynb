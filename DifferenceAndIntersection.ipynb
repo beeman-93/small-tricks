{
 "cells": [
  {
   "cell_type": "markdown",
   "id": "fc14995a",
   "metadata": {},
   "source": [
    "## Difference and Intersection in Data Type Set"
   ]
  },
  {
   "cell_type": "code",
   "execution_count": 1,
   "id": "f5adec95",
   "metadata": {},
   "outputs": [],
   "source": [
    "set1={'a','b','c'}\n",
    "set2={'a','b','c','d','e'}"
   ]
  },
  {
   "cell_type": "code",
   "execution_count": 2,
   "id": "9975cbae",
   "metadata": {},
   "outputs": [
    {
     "data": {
      "text/plain": [
       "{'d', 'e'}"
      ]
     },
     "execution_count": 2,
     "metadata": {},
     "output_type": "execute_result"
    }
   ],
   "source": [
    "set2.difference(set1)"
   ]
  },
  {
   "cell_type": "code",
   "execution_count": 3,
   "id": "c8e37e8e",
   "metadata": {},
   "outputs": [
    {
     "data": {
      "text/plain": [
       "{'a', 'b', 'c', 'd', 'e'}"
      ]
     },
     "execution_count": 3,
     "metadata": {},
     "output_type": "execute_result"
    }
   ],
   "source": [
    "set2"
   ]
  },
  {
   "cell_type": "code",
   "execution_count": 4,
   "id": "90d72ff9",
   "metadata": {},
   "outputs": [],
   "source": [
    "#updating difference\n",
    "set2.difference_update(set1)"
   ]
  },
  {
   "cell_type": "code",
   "execution_count": 5,
   "id": "5e0dfd40",
   "metadata": {},
   "outputs": [
    {
     "data": {
      "text/plain": [
       "{'d', 'e'}"
      ]
     },
     "execution_count": 5,
     "metadata": {},
     "output_type": "execute_result"
    }
   ],
   "source": [
    "set2"
   ]
  },
  {
   "cell_type": "code",
   "execution_count": 6,
   "id": "4e401f49",
   "metadata": {},
   "outputs": [],
   "source": [
    "set1={'a','b','c'}\n",
    "set2={'a','b','c','d','e'}"
   ]
  },
  {
   "cell_type": "code",
   "execution_count": 7,
   "id": "2fdecc2a",
   "metadata": {},
   "outputs": [
    {
     "data": {
      "text/plain": [
       "{'a', 'b', 'c'}"
      ]
     },
     "execution_count": 7,
     "metadata": {},
     "output_type": "execute_result"
    }
   ],
   "source": [
    "set2.intersection(set1)"
   ]
  },
  {
   "cell_type": "code",
   "execution_count": 8,
   "id": "fd2dff4d",
   "metadata": {},
   "outputs": [],
   "source": [
    "#updating intersection\n",
    "set2.intersection_update(set1)"
   ]
  },
  {
   "cell_type": "code",
   "execution_count": 9,
   "id": "e414eaff",
   "metadata": {},
   "outputs": [
    {
     "data": {
      "text/plain": [
       "{'a', 'b', 'c'}"
      ]
     },
     "execution_count": 9,
     "metadata": {},
     "output_type": "execute_result"
    }
   ],
   "source": [
    "set2"
   ]
  },
  {
   "cell_type": "code",
   "execution_count": null,
   "id": "83db20e3",
   "metadata": {},
   "outputs": [],
   "source": []
  }
 ],
 "metadata": {
  "kernelspec": {
   "display_name": "Python 3 (ipykernel)",
   "language": "python",
   "name": "python3"
  },
  "language_info": {
   "codemirror_mode": {
    "name": "ipython",
    "version": 3
   },
   "file_extension": ".py",
   "mimetype": "text/x-python",
   "name": "python",
   "nbconvert_exporter": "python",
   "pygments_lexer": "ipython3",
   "version": "3.8.13"
  }
 },
 "nbformat": 4,
 "nbformat_minor": 5
}
