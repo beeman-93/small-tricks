{
 "cells": [
  {
   "cell_type": "code",
   "execution_count": null,
   "id": "07586c38",
   "metadata": {},
   "outputs": [],
   "source": [
    "# Sort the students based on their height, birth month, and name\n",
    "# Priority: height > birth month > name "
   ]
  },
  {
   "cell_type": "code",
   "execution_count": null,
   "id": "8af3ccdc",
   "metadata": {},
   "outputs": [],
   "source": [
    "# create an empty dictionary\n",
    "  \n",
    "n = int(input())\n",
    "  \n",
    "# create an empty list\n",
    "# Add student information to the list\n",
    "ls = []\n",
    "  \n",
    "for i in range(0, n):\n",
    "    \n",
    "    # Take combined input height birth month and \n",
    "    # name and split values \n",
    "    # using split function.\n",
    "    elements = input().split()\n",
    "\n",
    "# Add name and marks stored in x, y\n",
    "    # respectively using tuple to the list\n",
    "    ls.append((elements))"
   ]
  },
  {
   "cell_type": "code",
   "execution_count": null,
   "id": "f97b3f4d",
   "metadata": {},
   "outputs": [],
   "source": [
    "new_ls=sorted(ls, key=lambda x: (x[1], x[2], x[0]))"
   ]
  },
  {
   "cell_type": "code",
   "execution_count": null,
   "id": "bc319d76",
   "metadata": {},
   "outputs": [],
   "source": [
    "res_ls=[x[0] for x in new_ls]"
   ]
  },
  {
   "cell_type": "code",
   "execution_count": null,
   "id": "18aacf44",
   "metadata": {},
   "outputs": [],
   "source": [
    "print ('\\n'.join(res_ls))"
   ]
  },
  {
   "cell_type": "code",
   "execution_count": null,
   "id": "292f94ca",
   "metadata": {},
   "outputs": [],
   "source": []
  }
 ],
 "metadata": {
  "kernelspec": {
   "display_name": "Python 3 (ipykernel)",
   "language": "python",
   "name": "python3"
  },
  "language_info": {
   "codemirror_mode": {
    "name": "ipython",
    "version": 3
   },
   "file_extension": ".py",
   "mimetype": "text/x-python",
   "name": "python",
   "nbconvert_exporter": "python",
   "pygments_lexer": "ipython3",
   "version": "3.8.13"
  }
 },
 "nbformat": 4,
 "nbformat_minor": 5
}
