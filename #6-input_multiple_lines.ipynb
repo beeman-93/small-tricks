{
 "cells": [
  {
   "cell_type": "code",
   "execution_count": 17,
   "id": "482a8de9",
   "metadata": {},
   "outputs": [
    {
     "name": "stdout",
     "output_type": "stream",
     "text": [
      "10 50 70\n",
      "20 30\n"
     ]
    }
   ],
   "source": [
    "# How to input multiple lines and store them in a list\n",
    "# For example, we input 2 lines\n",
    "\n",
    "inputs = [input() for i in range(2)]"
   ]
  },
  {
   "cell_type": "code",
   "execution_count": 18,
   "id": "99dc4b11",
   "metadata": {},
   "outputs": [
    {
     "name": "stdout",
     "output_type": "stream",
     "text": [
      "['10 50 70', '20 30']\n"
     ]
    }
   ],
   "source": [
    "print (inputs)"
   ]
  },
  {
   "cell_type": "code",
   "execution_count": 19,
   "id": "6fb82253",
   "metadata": {},
   "outputs": [
    {
     "name": "stdout",
     "output_type": "stream",
     "text": [
      "[10, 50, 70, 20, 30]\n"
     ]
    }
   ],
   "source": [
    "lst = []\n",
    "for i in inputs:\n",
    "    elements = i.split(\" \")\n",
    "   \n",
    "    for ii in elements:\n",
    "        lst.append(int(ii))\n",
    "        \n",
    "print (lst)\n",
    "    #lst.append(elements)\n",
    "#print (lst)"
   ]
  },
  {
   "cell_type": "code",
   "execution_count": null,
   "id": "7431ed52",
   "metadata": {},
   "outputs": [],
   "source": []
  }
 ],
 "metadata": {
  "kernelspec": {
   "display_name": "Python 3 (ipykernel)",
   "language": "python",
   "name": "python3"
  },
  "language_info": {
   "codemirror_mode": {
    "name": "ipython",
    "version": 3
   },
   "file_extension": ".py",
   "mimetype": "text/x-python",
   "name": "python",
   "nbconvert_exporter": "python",
   "pygments_lexer": "ipython3",
   "version": "3.8.13"
  }
 },
 "nbformat": 4,
 "nbformat_minor": 5
}
