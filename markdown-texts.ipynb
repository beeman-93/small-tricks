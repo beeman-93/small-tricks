{
 "cells": [
  {
   "cell_type": "code",
   "execution_count": 6,
   "id": "1dd31bad",
   "metadata": {},
   "outputs": [],
   "source": [
    "# How to insert an image"
   ]
  },
  {
   "cell_type": "markdown",
   "id": "8b121b47",
   "metadata": {},
   "source": [
    "## <font color='Black'> Let's Learn Pandas</font>\n",
    "<img src=\"https://upload.wikimedia.org/wikipedia/commons/thumb/0/0f/Grosser_Panda.JPG/800px-Grosser_Panda.JPG\" style=\"width:400px;height:400px\">\n"
   ]
  },
  {
   "cell_type": "code",
   "execution_count": 3,
   "id": "abea560d",
   "metadata": {},
   "outputs": [],
   "source": [
    "# How to add some explanatory texts \n",
    "# Use ** ... **, to make the text bold. \n",
    "# Use ##, to make a header type"
   ]
  },
  {
   "cell_type": "markdown",
   "id": "d6315826",
   "metadata": {},
   "source": [
    "## Who is Dhaval Patel?\n",
    "**Codebasics is founded by Dhaval Patel.** He is the Founder of ed-tech platform codebasics.io and a co-founder of a software & data company called AtliQ Technologies (Ex. Bloomberg, NVIDIA). I've 17+ years of industry experience as a software and data engineer and an entrepreneur. Teaching is my passion. I strongly believe \"Anyone Can Code\"! No matter what your background and past skill set, you can learn programming and technology if it is taught in a simplistic and intuitive way. The goal of this channel is to fulfill this vision by teaching technology (especially coding and data science) in the simplest and most intuitive manner."
   ]
  },
  {
   "cell_type": "code",
   "execution_count": 4,
   "id": "3b09ac1a",
   "metadata": {},
   "outputs": [],
   "source": [
    "# How to insert an HTML link to Jupyter notebook"
   ]
  },
  {
   "cell_type": "code",
   "execution_count": 5,
   "id": "fc5aed3e",
   "metadata": {
    "scrolled": true
   },
   "outputs": [
    {
     "data": {
      "text/html": [
       "<iframe width=\"560\" height=\"315\" src=\"https://www.youtube.com/embed/EEEZX_0FMEc\" title=\"YouTube video player\" frameborder=\"0\" allow=\"accelerometer; autoplay; clipboard-write; encrypted-media; gyroscope; picture-in-picture\" allowfullscreen></iframe>\n"
      ],
      "text/plain": [
       "<IPython.core.display.HTML object>"
      ]
     },
     "metadata": {},
     "output_type": "display_data"
    }
   ],
   "source": [
    "%%HTML\n",
    "<iframe width=\"560\" height=\"315\" src=\"https://www.youtube.com/embed/EEEZX_0FMEc\" title=\"YouTube video player\" frameborder=\"0\" allow=\"accelerometer; autoplay; clipboard-write; encrypted-media; gyroscope; picture-in-picture\" allowfullscreen></iframe>"
   ]
  },
  {
   "cell_type": "code",
   "execution_count": null,
   "id": "2ec3e851",
   "metadata": {},
   "outputs": [],
   "source": []
  }
 ],
 "metadata": {
  "kernelspec": {
   "display_name": "Python 3 (ipykernel)",
   "language": "python",
   "name": "python3"
  },
  "language_info": {
   "codemirror_mode": {
    "name": "ipython",
    "version": 3
   },
   "file_extension": ".py",
   "mimetype": "text/x-python",
   "name": "python",
   "nbconvert_exporter": "python",
   "pygments_lexer": "ipython3",
   "version": "3.8.13"
  }
 },
 "nbformat": 4,
 "nbformat_minor": 5
}
